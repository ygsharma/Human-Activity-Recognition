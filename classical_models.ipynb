{
  "nbformat": 4,
  "nbformat_minor": 0,
  "metadata": {
    "colab": {
      "name": "classical_models",
      "provenance": [],
      "collapsed_sections": []
    },
    "kernelspec": {
      "name": "python3",
      "display_name": "Python 3"
    }
  },
  "cells": [
    {
      "cell_type": "code",
      "metadata": {
        "id": "9lNI2soe3Jm2",
        "colab_type": "code",
        "colab": {
          "base_uri": "https://localhost:8080/",
          "height": 121
        },
        "outputId": "5c0b76ac-272e-45fe-89ee-99c3429fd9af"
      },
      "source": [
        "import numpy as np\n",
        "import pandas as pd\n",
        "\n",
        "from google.colab import drive\n",
        "drive.mount('/content/drive')"
      ],
      "execution_count": 5,
      "outputs": [
        {
          "output_type": "stream",
          "text": [
            "Go to this URL in a browser: https://accounts.google.com/o/oauth2/auth?client_id=947318989803-6bn6qk8qdgf4n4g3pfee6491hc0brc4i.apps.googleusercontent.com&redirect_uri=urn%3aietf%3awg%3aoauth%3a2.0%3aoob&response_type=code&scope=email%20https%3a%2f%2fwww.googleapis.com%2fauth%2fdocs.test%20https%3a%2f%2fwww.googleapis.com%2fauth%2fdrive%20https%3a%2f%2fwww.googleapis.com%2fauth%2fdrive.photos.readonly%20https%3a%2f%2fwww.googleapis.com%2fauth%2fpeopleapi.readonly\n",
            "\n",
            "Enter your authorization code:\n",
            "··········\n",
            "Mounted at /content/drive\n"
          ],
          "name": "stdout"
        }
      ]
    },
    {
      "cell_type": "code",
      "metadata": {
        "id": "kr-VWb1l3VaC",
        "colab_type": "code",
        "colab": {
          "base_uri": "https://localhost:8080/",
          "height": 34
        },
        "outputId": "df997755-9997-4c9b-e05d-84ab20bd286d"
      },
      "source": [
        "train = pd.read_csv(f'/content/drive/My Drive/UCI_HAR_Dataset/csv_files/train.csv')\n",
        "test = pd.read_csv(f'/content/drive/My Drive/UCI_HAR_Dataset/csv_files/test.csv')\n",
        "print(train.shape, test.shape)"
      ],
      "execution_count": 6,
      "outputs": [
        {
          "output_type": "stream",
          "text": [
            "(7352, 564) (2947, 564)\n"
          ],
          "name": "stdout"
        }
      ]
    },
    {
      "cell_type": "code",
      "metadata": {
        "id": "_D1uPG4H4N25",
        "colab_type": "code",
        "colab": {
          "base_uri": "https://localhost:8080/",
          "height": 244
        },
        "outputId": "15e04d8a-5dbe-4240-dee6-51f822156154"
      },
      "source": [
        "train.head()"
      ],
      "execution_count": 7,
      "outputs": [
        {
          "output_type": "execute_result",
          "data": {
            "text/html": [
              "<div>\n",
              "<style scoped>\n",
              "    .dataframe tbody tr th:only-of-type {\n",
              "        vertical-align: middle;\n",
              "    }\n",
              "\n",
              "    .dataframe tbody tr th {\n",
              "        vertical-align: top;\n",
              "    }\n",
              "\n",
              "    .dataframe thead th {\n",
              "        text-align: right;\n",
              "    }\n",
              "</style>\n",
              "<table border=\"1\" class=\"dataframe\">\n",
              "  <thead>\n",
              "    <tr style=\"text-align: right;\">\n",
              "      <th></th>\n",
              "      <th>tBodyAccmeanX</th>\n",
              "      <th>tBodyAccmeanY</th>\n",
              "      <th>tBodyAccmeanZ</th>\n",
              "      <th>tBodyAccstdX</th>\n",
              "      <th>tBodyAccstdY</th>\n",
              "      <th>tBodyAccstdZ</th>\n",
              "      <th>tBodyAccmadX</th>\n",
              "      <th>tBodyAccmadY</th>\n",
              "      <th>tBodyAccmadZ</th>\n",
              "      <th>tBodyAccmaxX</th>\n",
              "      <th>tBodyAccmaxY</th>\n",
              "      <th>tBodyAccmaxZ</th>\n",
              "      <th>tBodyAccminX</th>\n",
              "      <th>tBodyAccminY</th>\n",
              "      <th>tBodyAccminZ</th>\n",
              "      <th>tBodyAccsma</th>\n",
              "      <th>tBodyAccenergyX</th>\n",
              "      <th>tBodyAccenergyY</th>\n",
              "      <th>tBodyAccenergyZ</th>\n",
              "      <th>tBodyAcciqrX</th>\n",
              "      <th>tBodyAcciqrY</th>\n",
              "      <th>tBodyAcciqrZ</th>\n",
              "      <th>tBodyAccentropyX</th>\n",
              "      <th>tBodyAccentropyY</th>\n",
              "      <th>tBodyAccentropyZ</th>\n",
              "      <th>tBodyAccarCoeffX1</th>\n",
              "      <th>tBodyAccarCoeffX2</th>\n",
              "      <th>tBodyAccarCoeffX3</th>\n",
              "      <th>tBodyAccarCoeffX4</th>\n",
              "      <th>tBodyAccarCoeffY1</th>\n",
              "      <th>tBodyAccarCoeffY2</th>\n",
              "      <th>tBodyAccarCoeffY3</th>\n",
              "      <th>tBodyAccarCoeffY4</th>\n",
              "      <th>tBodyAccarCoeffZ1</th>\n",
              "      <th>tBodyAccarCoeffZ2</th>\n",
              "      <th>tBodyAccarCoeffZ3</th>\n",
              "      <th>tBodyAccarCoeffZ4</th>\n",
              "      <th>tBodyAcccorrelationXY</th>\n",
              "      <th>tBodyAcccorrelationXZ</th>\n",
              "      <th>tBodyAcccorrelationYZ</th>\n",
              "      <th>...</th>\n",
              "      <th>fBodyBodyAccJerkMagmaxInds</th>\n",
              "      <th>fBodyBodyAccJerkMagmeanFreq</th>\n",
              "      <th>fBodyBodyAccJerkMagskewness</th>\n",
              "      <th>fBodyBodyAccJerkMagkurtosis</th>\n",
              "      <th>fBodyBodyGyroMagmean</th>\n",
              "      <th>fBodyBodyGyroMagstd</th>\n",
              "      <th>fBodyBodyGyroMagmad</th>\n",
              "      <th>fBodyBodyGyroMagmax</th>\n",
              "      <th>fBodyBodyGyroMagmin</th>\n",
              "      <th>fBodyBodyGyroMagsma</th>\n",
              "      <th>fBodyBodyGyroMagenergy</th>\n",
              "      <th>fBodyBodyGyroMagiqr</th>\n",
              "      <th>fBodyBodyGyroMagentropy</th>\n",
              "      <th>fBodyBodyGyroMagmaxInds</th>\n",
              "      <th>fBodyBodyGyroMagmeanFreq</th>\n",
              "      <th>fBodyBodyGyroMagskewness</th>\n",
              "      <th>fBodyBodyGyroMagkurtosis</th>\n",
              "      <th>fBodyBodyGyroJerkMagmean</th>\n",
              "      <th>fBodyBodyGyroJerkMagstd</th>\n",
              "      <th>fBodyBodyGyroJerkMagmad</th>\n",
              "      <th>fBodyBodyGyroJerkMagmax</th>\n",
              "      <th>fBodyBodyGyroJerkMagmin</th>\n",
              "      <th>fBodyBodyGyroJerkMagsma</th>\n",
              "      <th>fBodyBodyGyroJerkMagenergy</th>\n",
              "      <th>fBodyBodyGyroJerkMagiqr</th>\n",
              "      <th>fBodyBodyGyroJerkMagentropy</th>\n",
              "      <th>fBodyBodyGyroJerkMagmaxInds</th>\n",
              "      <th>fBodyBodyGyroJerkMagmeanFreq</th>\n",
              "      <th>fBodyBodyGyroJerkMagskewness</th>\n",
              "      <th>fBodyBodyGyroJerkMagkurtosis</th>\n",
              "      <th>angletBodyAccMeangravity</th>\n",
              "      <th>angletBodyAccJerkMeangravityMean</th>\n",
              "      <th>angletBodyGyroMeangravityMean</th>\n",
              "      <th>angletBodyGyroJerkMeangravityMean</th>\n",
              "      <th>angleXgravityMean</th>\n",
              "      <th>angleYgravityMean</th>\n",
              "      <th>angleZgravityMean</th>\n",
              "      <th>subject</th>\n",
              "      <th>Activity</th>\n",
              "      <th>ActivityName</th>\n",
              "    </tr>\n",
              "  </thead>\n",
              "  <tbody>\n",
              "    <tr>\n",
              "      <th>0</th>\n",
              "      <td>0.288585</td>\n",
              "      <td>-0.020294</td>\n",
              "      <td>-0.132905</td>\n",
              "      <td>-0.995279</td>\n",
              "      <td>-0.983111</td>\n",
              "      <td>-0.913526</td>\n",
              "      <td>-0.995112</td>\n",
              "      <td>-0.983185</td>\n",
              "      <td>-0.923527</td>\n",
              "      <td>-0.934724</td>\n",
              "      <td>-0.567378</td>\n",
              "      <td>-0.744413</td>\n",
              "      <td>0.852947</td>\n",
              "      <td>0.685845</td>\n",
              "      <td>0.814263</td>\n",
              "      <td>-0.965523</td>\n",
              "      <td>-0.999945</td>\n",
              "      <td>-0.999863</td>\n",
              "      <td>-0.994612</td>\n",
              "      <td>-0.994231</td>\n",
              "      <td>-0.987614</td>\n",
              "      <td>-0.943220</td>\n",
              "      <td>-0.407747</td>\n",
              "      <td>-0.679338</td>\n",
              "      <td>-0.602122</td>\n",
              "      <td>0.929294</td>\n",
              "      <td>-0.853011</td>\n",
              "      <td>0.359910</td>\n",
              "      <td>-0.058526</td>\n",
              "      <td>0.256892</td>\n",
              "      <td>-0.224848</td>\n",
              "      <td>0.264106</td>\n",
              "      <td>-0.095246</td>\n",
              "      <td>0.278851</td>\n",
              "      <td>-0.465085</td>\n",
              "      <td>0.491936</td>\n",
              "      <td>-0.190884</td>\n",
              "      <td>0.376314</td>\n",
              "      <td>0.435129</td>\n",
              "      <td>0.660790</td>\n",
              "      <td>...</td>\n",
              "      <td>-0.936508</td>\n",
              "      <td>0.346989</td>\n",
              "      <td>-0.516080</td>\n",
              "      <td>-0.802760</td>\n",
              "      <td>-0.980135</td>\n",
              "      <td>-0.961309</td>\n",
              "      <td>-0.973653</td>\n",
              "      <td>-0.952264</td>\n",
              "      <td>-0.989498</td>\n",
              "      <td>-0.980135</td>\n",
              "      <td>-0.999240</td>\n",
              "      <td>-0.992656</td>\n",
              "      <td>-0.701291</td>\n",
              "      <td>-1.000000</td>\n",
              "      <td>-0.128989</td>\n",
              "      <td>0.586156</td>\n",
              "      <td>0.374605</td>\n",
              "      <td>-0.991990</td>\n",
              "      <td>-0.990697</td>\n",
              "      <td>-0.989941</td>\n",
              "      <td>-0.992448</td>\n",
              "      <td>-0.991048</td>\n",
              "      <td>-0.991990</td>\n",
              "      <td>-0.999937</td>\n",
              "      <td>-0.990458</td>\n",
              "      <td>-0.871306</td>\n",
              "      <td>-1.000000</td>\n",
              "      <td>-0.074323</td>\n",
              "      <td>-0.298676</td>\n",
              "      <td>-0.710304</td>\n",
              "      <td>-0.112754</td>\n",
              "      <td>0.030400</td>\n",
              "      <td>-0.464761</td>\n",
              "      <td>-0.018446</td>\n",
              "      <td>-0.841247</td>\n",
              "      <td>0.179941</td>\n",
              "      <td>-0.058627</td>\n",
              "      <td>1</td>\n",
              "      <td>5</td>\n",
              "      <td>STANDING</td>\n",
              "    </tr>\n",
              "    <tr>\n",
              "      <th>1</th>\n",
              "      <td>0.278419</td>\n",
              "      <td>-0.016411</td>\n",
              "      <td>-0.123520</td>\n",
              "      <td>-0.998245</td>\n",
              "      <td>-0.975300</td>\n",
              "      <td>-0.960322</td>\n",
              "      <td>-0.998807</td>\n",
              "      <td>-0.974914</td>\n",
              "      <td>-0.957686</td>\n",
              "      <td>-0.943068</td>\n",
              "      <td>-0.557851</td>\n",
              "      <td>-0.818409</td>\n",
              "      <td>0.849308</td>\n",
              "      <td>0.685845</td>\n",
              "      <td>0.822637</td>\n",
              "      <td>-0.981930</td>\n",
              "      <td>-0.999991</td>\n",
              "      <td>-0.999788</td>\n",
              "      <td>-0.998405</td>\n",
              "      <td>-0.999150</td>\n",
              "      <td>-0.977866</td>\n",
              "      <td>-0.948225</td>\n",
              "      <td>-0.714892</td>\n",
              "      <td>-0.500930</td>\n",
              "      <td>-0.570979</td>\n",
              "      <td>0.611627</td>\n",
              "      <td>-0.329549</td>\n",
              "      <td>0.284213</td>\n",
              "      <td>0.284595</td>\n",
              "      <td>0.115705</td>\n",
              "      <td>-0.090963</td>\n",
              "      <td>0.294310</td>\n",
              "      <td>-0.281211</td>\n",
              "      <td>0.085988</td>\n",
              "      <td>-0.022153</td>\n",
              "      <td>-0.016657</td>\n",
              "      <td>-0.220643</td>\n",
              "      <td>-0.013429</td>\n",
              "      <td>-0.072692</td>\n",
              "      <td>0.579382</td>\n",
              "      <td>...</td>\n",
              "      <td>-0.841270</td>\n",
              "      <td>0.532061</td>\n",
              "      <td>-0.624871</td>\n",
              "      <td>-0.900160</td>\n",
              "      <td>-0.988296</td>\n",
              "      <td>-0.983322</td>\n",
              "      <td>-0.982659</td>\n",
              "      <td>-0.986321</td>\n",
              "      <td>-0.991829</td>\n",
              "      <td>-0.988296</td>\n",
              "      <td>-0.999811</td>\n",
              "      <td>-0.993979</td>\n",
              "      <td>-0.720683</td>\n",
              "      <td>-0.948718</td>\n",
              "      <td>-0.271958</td>\n",
              "      <td>-0.336310</td>\n",
              "      <td>-0.720015</td>\n",
              "      <td>-0.995854</td>\n",
              "      <td>-0.996399</td>\n",
              "      <td>-0.995442</td>\n",
              "      <td>-0.996866</td>\n",
              "      <td>-0.994440</td>\n",
              "      <td>-0.995854</td>\n",
              "      <td>-0.999981</td>\n",
              "      <td>-0.994544</td>\n",
              "      <td>-1.000000</td>\n",
              "      <td>-1.000000</td>\n",
              "      <td>0.158075</td>\n",
              "      <td>-0.595051</td>\n",
              "      <td>-0.861499</td>\n",
              "      <td>0.053477</td>\n",
              "      <td>-0.007435</td>\n",
              "      <td>-0.732626</td>\n",
              "      <td>0.703511</td>\n",
              "      <td>-0.844788</td>\n",
              "      <td>0.180289</td>\n",
              "      <td>-0.054317</td>\n",
              "      <td>1</td>\n",
              "      <td>5</td>\n",
              "      <td>STANDING</td>\n",
              "    </tr>\n",
              "    <tr>\n",
              "      <th>2</th>\n",
              "      <td>0.279653</td>\n",
              "      <td>-0.019467</td>\n",
              "      <td>-0.113462</td>\n",
              "      <td>-0.995380</td>\n",
              "      <td>-0.967187</td>\n",
              "      <td>-0.978944</td>\n",
              "      <td>-0.996520</td>\n",
              "      <td>-0.963668</td>\n",
              "      <td>-0.977469</td>\n",
              "      <td>-0.938692</td>\n",
              "      <td>-0.557851</td>\n",
              "      <td>-0.818409</td>\n",
              "      <td>0.843609</td>\n",
              "      <td>0.682401</td>\n",
              "      <td>0.839344</td>\n",
              "      <td>-0.983478</td>\n",
              "      <td>-0.999969</td>\n",
              "      <td>-0.999660</td>\n",
              "      <td>-0.999470</td>\n",
              "      <td>-0.997130</td>\n",
              "      <td>-0.964810</td>\n",
              "      <td>-0.974675</td>\n",
              "      <td>-0.592235</td>\n",
              "      <td>-0.485821</td>\n",
              "      <td>-0.570979</td>\n",
              "      <td>0.273025</td>\n",
              "      <td>-0.086309</td>\n",
              "      <td>0.337202</td>\n",
              "      <td>-0.164739</td>\n",
              "      <td>0.017150</td>\n",
              "      <td>-0.074507</td>\n",
              "      <td>0.342256</td>\n",
              "      <td>-0.332564</td>\n",
              "      <td>0.239281</td>\n",
              "      <td>-0.136204</td>\n",
              "      <td>0.173863</td>\n",
              "      <td>-0.299493</td>\n",
              "      <td>-0.124698</td>\n",
              "      <td>-0.181105</td>\n",
              "      <td>0.608900</td>\n",
              "      <td>...</td>\n",
              "      <td>-0.904762</td>\n",
              "      <td>0.660795</td>\n",
              "      <td>-0.724697</td>\n",
              "      <td>-0.928539</td>\n",
              "      <td>-0.989255</td>\n",
              "      <td>-0.986028</td>\n",
              "      <td>-0.984274</td>\n",
              "      <td>-0.990979</td>\n",
              "      <td>-0.995703</td>\n",
              "      <td>-0.989255</td>\n",
              "      <td>-0.999854</td>\n",
              "      <td>-0.993238</td>\n",
              "      <td>-0.736521</td>\n",
              "      <td>-0.794872</td>\n",
              "      <td>-0.212728</td>\n",
              "      <td>-0.535352</td>\n",
              "      <td>-0.871914</td>\n",
              "      <td>-0.995031</td>\n",
              "      <td>-0.995127</td>\n",
              "      <td>-0.994640</td>\n",
              "      <td>-0.996060</td>\n",
              "      <td>-0.995866</td>\n",
              "      <td>-0.995031</td>\n",
              "      <td>-0.999973</td>\n",
              "      <td>-0.993755</td>\n",
              "      <td>-1.000000</td>\n",
              "      <td>-0.555556</td>\n",
              "      <td>0.414503</td>\n",
              "      <td>-0.390748</td>\n",
              "      <td>-0.760104</td>\n",
              "      <td>-0.118559</td>\n",
              "      <td>0.177899</td>\n",
              "      <td>0.100699</td>\n",
              "      <td>0.808529</td>\n",
              "      <td>-0.848933</td>\n",
              "      <td>0.180637</td>\n",
              "      <td>-0.049118</td>\n",
              "      <td>1</td>\n",
              "      <td>5</td>\n",
              "      <td>STANDING</td>\n",
              "    </tr>\n",
              "    <tr>\n",
              "      <th>3</th>\n",
              "      <td>0.279174</td>\n",
              "      <td>-0.026201</td>\n",
              "      <td>-0.123283</td>\n",
              "      <td>-0.996091</td>\n",
              "      <td>-0.983403</td>\n",
              "      <td>-0.990675</td>\n",
              "      <td>-0.997099</td>\n",
              "      <td>-0.982750</td>\n",
              "      <td>-0.989302</td>\n",
              "      <td>-0.938692</td>\n",
              "      <td>-0.576159</td>\n",
              "      <td>-0.829711</td>\n",
              "      <td>0.843609</td>\n",
              "      <td>0.682401</td>\n",
              "      <td>0.837869</td>\n",
              "      <td>-0.986093</td>\n",
              "      <td>-0.999976</td>\n",
              "      <td>-0.999736</td>\n",
              "      <td>-0.999504</td>\n",
              "      <td>-0.997180</td>\n",
              "      <td>-0.983799</td>\n",
              "      <td>-0.986007</td>\n",
              "      <td>-0.627446</td>\n",
              "      <td>-0.850930</td>\n",
              "      <td>-0.911872</td>\n",
              "      <td>0.061436</td>\n",
              "      <td>0.074840</td>\n",
              "      <td>0.198204</td>\n",
              "      <td>-0.264307</td>\n",
              "      <td>0.072545</td>\n",
              "      <td>-0.155320</td>\n",
              "      <td>0.323154</td>\n",
              "      <td>-0.170813</td>\n",
              "      <td>0.294938</td>\n",
              "      <td>-0.306081</td>\n",
              "      <td>0.482148</td>\n",
              "      <td>-0.470129</td>\n",
              "      <td>-0.305693</td>\n",
              "      <td>-0.362654</td>\n",
              "      <td>0.507459</td>\n",
              "      <td>...</td>\n",
              "      <td>1.000000</td>\n",
              "      <td>0.678921</td>\n",
              "      <td>-0.701131</td>\n",
              "      <td>-0.909639</td>\n",
              "      <td>-0.989413</td>\n",
              "      <td>-0.987836</td>\n",
              "      <td>-0.986850</td>\n",
              "      <td>-0.986749</td>\n",
              "      <td>-0.996199</td>\n",
              "      <td>-0.989413</td>\n",
              "      <td>-0.999876</td>\n",
              "      <td>-0.989136</td>\n",
              "      <td>-0.720891</td>\n",
              "      <td>-1.000000</td>\n",
              "      <td>-0.035684</td>\n",
              "      <td>-0.230091</td>\n",
              "      <td>-0.511217</td>\n",
              "      <td>-0.995221</td>\n",
              "      <td>-0.995237</td>\n",
              "      <td>-0.995722</td>\n",
              "      <td>-0.995273</td>\n",
              "      <td>-0.995732</td>\n",
              "      <td>-0.995221</td>\n",
              "      <td>-0.999974</td>\n",
              "      <td>-0.995226</td>\n",
              "      <td>-0.955696</td>\n",
              "      <td>-0.936508</td>\n",
              "      <td>0.404573</td>\n",
              "      <td>-0.117290</td>\n",
              "      <td>-0.482845</td>\n",
              "      <td>-0.036788</td>\n",
              "      <td>-0.012892</td>\n",
              "      <td>0.640011</td>\n",
              "      <td>-0.485366</td>\n",
              "      <td>-0.848649</td>\n",
              "      <td>0.181935</td>\n",
              "      <td>-0.047663</td>\n",
              "      <td>1</td>\n",
              "      <td>5</td>\n",
              "      <td>STANDING</td>\n",
              "    </tr>\n",
              "    <tr>\n",
              "      <th>4</th>\n",
              "      <td>0.276629</td>\n",
              "      <td>-0.016570</td>\n",
              "      <td>-0.115362</td>\n",
              "      <td>-0.998139</td>\n",
              "      <td>-0.980817</td>\n",
              "      <td>-0.990482</td>\n",
              "      <td>-0.998321</td>\n",
              "      <td>-0.979672</td>\n",
              "      <td>-0.990441</td>\n",
              "      <td>-0.942469</td>\n",
              "      <td>-0.569174</td>\n",
              "      <td>-0.824705</td>\n",
              "      <td>0.849095</td>\n",
              "      <td>0.683250</td>\n",
              "      <td>0.837869</td>\n",
              "      <td>-0.992653</td>\n",
              "      <td>-0.999991</td>\n",
              "      <td>-0.999856</td>\n",
              "      <td>-0.999757</td>\n",
              "      <td>-0.998004</td>\n",
              "      <td>-0.981232</td>\n",
              "      <td>-0.991325</td>\n",
              "      <td>-0.786553</td>\n",
              "      <td>-0.559477</td>\n",
              "      <td>-0.761434</td>\n",
              "      <td>0.313276</td>\n",
              "      <td>-0.131208</td>\n",
              "      <td>0.191161</td>\n",
              "      <td>0.086904</td>\n",
              "      <td>0.257615</td>\n",
              "      <td>-0.272505</td>\n",
              "      <td>0.434728</td>\n",
              "      <td>-0.315375</td>\n",
              "      <td>0.439744</td>\n",
              "      <td>-0.269069</td>\n",
              "      <td>0.179414</td>\n",
              "      <td>-0.088952</td>\n",
              "      <td>-0.155804</td>\n",
              "      <td>-0.189763</td>\n",
              "      <td>0.599213</td>\n",
              "      <td>...</td>\n",
              "      <td>-1.000000</td>\n",
              "      <td>0.559058</td>\n",
              "      <td>-0.528901</td>\n",
              "      <td>-0.858933</td>\n",
              "      <td>-0.991433</td>\n",
              "      <td>-0.989059</td>\n",
              "      <td>-0.987744</td>\n",
              "      <td>-0.991462</td>\n",
              "      <td>-0.998353</td>\n",
              "      <td>-0.991433</td>\n",
              "      <td>-0.999902</td>\n",
              "      <td>-0.989321</td>\n",
              "      <td>-0.763372</td>\n",
              "      <td>-0.897436</td>\n",
              "      <td>-0.273582</td>\n",
              "      <td>-0.510282</td>\n",
              "      <td>-0.830702</td>\n",
              "      <td>-0.995093</td>\n",
              "      <td>-0.995465</td>\n",
              "      <td>-0.995279</td>\n",
              "      <td>-0.995609</td>\n",
              "      <td>-0.997418</td>\n",
              "      <td>-0.995093</td>\n",
              "      <td>-0.999974</td>\n",
              "      <td>-0.995487</td>\n",
              "      <td>-1.000000</td>\n",
              "      <td>-0.936508</td>\n",
              "      <td>0.087753</td>\n",
              "      <td>-0.351471</td>\n",
              "      <td>-0.699205</td>\n",
              "      <td>0.123320</td>\n",
              "      <td>0.122542</td>\n",
              "      <td>0.693578</td>\n",
              "      <td>-0.615971</td>\n",
              "      <td>-0.847865</td>\n",
              "      <td>0.185151</td>\n",
              "      <td>-0.043892</td>\n",
              "      <td>1</td>\n",
              "      <td>5</td>\n",
              "      <td>STANDING</td>\n",
              "    </tr>\n",
              "  </tbody>\n",
              "</table>\n",
              "<p>5 rows × 564 columns</p>\n",
              "</div>"
            ],
            "text/plain": [
              "   tBodyAccmeanX  tBodyAccmeanY  tBodyAccmeanZ  ...  subject  Activity  ActivityName\n",
              "0       0.288585      -0.020294      -0.132905  ...        1         5      STANDING\n",
              "1       0.278419      -0.016411      -0.123520  ...        1         5      STANDING\n",
              "2       0.279653      -0.019467      -0.113462  ...        1         5      STANDING\n",
              "3       0.279174      -0.026201      -0.123283  ...        1         5      STANDING\n",
              "4       0.276629      -0.016570      -0.115362  ...        1         5      STANDING\n",
              "\n",
              "[5 rows x 564 columns]"
            ]
          },
          "metadata": {
            "tags": []
          },
          "execution_count": 7
        }
      ]
    },
    {
      "cell_type": "code",
      "metadata": {
        "id": "2-0mp9Yk7ul2",
        "colab_type": "code",
        "colab": {}
      },
      "source": [
        "# get X_train and y_train from csv files\n",
        "X_train = train.drop(['subject', 'Activity', 'ActivityName'], axis=1)\n",
        "y_train = train.ActivityName"
      ],
      "execution_count": 8,
      "outputs": []
    },
    {
      "cell_type": "code",
      "metadata": {
        "id": "iFmSEX_25_9l",
        "colab_type": "code",
        "colab": {}
      },
      "source": [
        "# get X_test and y_test from csv files\n",
        "X_test = test.drop(['subject', 'Activity', 'ActivityName'], axis=1)\n",
        "y_test = test.ActivityName"
      ],
      "execution_count": 9,
      "outputs": []
    },
    {
      "cell_type": "code",
      "metadata": {
        "id": "YMTpaUfc8XNz",
        "colab_type": "code",
        "colab": {
          "base_uri": "https://localhost:8080/",
          "height": 50
        },
        "outputId": "bcb14d90-d395-47ff-a1d4-0f8d33465d06"
      },
      "source": [
        "print('X_train and y_train : ({},{})'.format(X_train.shape, y_train.shape))\n",
        "print('X_test  and y_test  : ({},{})'.format(X_test.shape, y_test.shape))"
      ],
      "execution_count": 10,
      "outputs": [
        {
          "output_type": "stream",
          "text": [
            "X_train and y_train : ((7352, 561),(7352,))\n",
            "X_test  and y_test  : ((2947, 561),(2947,))\n"
          ],
          "name": "stdout"
        }
      ]
    },
    {
      "cell_type": "markdown",
      "metadata": {
        "id": "Nxug5sHF8bUm",
        "colab_type": "text"
      },
      "source": [
        "# Let's model with our data"
      ]
    },
    {
      "cell_type": "markdown",
      "metadata": {
        "id": "mnWqobQx8vmR",
        "colab_type": "text"
      },
      "source": [
        "### Labels that are useful in plotting confusion matrix"
      ]
    },
    {
      "cell_type": "code",
      "metadata": {
        "id": "qCB7qKib9J2g",
        "colab_type": "code",
        "colab": {}
      },
      "source": [
        "labels=['LAYING', 'SITTING','STANDING','WALKING','WALKING_DOWNSTAIRS','WALKING_UPSTAIRS']"
      ],
      "execution_count": 11,
      "outputs": []
    },
    {
      "cell_type": "markdown",
      "metadata": {
        "id": "vARC-P2L9M5v",
        "colab_type": "text"
      },
      "source": [
        "### Function to plot the confusion matrix"
      ]
    },
    {
      "cell_type": "code",
      "metadata": {
        "id": "jj3o-eiwXOHC",
        "colab_type": "code",
        "colab": {}
      },
      "source": [
        "import itertools\n",
        "import numpy as np\n",
        "import matplotlib.pyplot as plt\n",
        "from sklearn.metrics import confusion_matrix\n",
        "plt.rcParams['font.family'] = 'DejaVu Sans'\n",
        "\n",
        "def plot_confusion_matrix(cm, classes,\n",
        "                          normalize=False,\n",
        "                          title='Confusion matrix',\n",
        "                          cmap=plt.cm.Blues):\n",
        "    if normalize:\n",
        "      cm = cm.astype('float') / cm.sum(axis=1)[:, np.newaxis]\n",
        "\n",
        "    plt.imshow(cm, interpolation='nearest', cmap=cmap)\n",
        "    plt.title(title)\n",
        "    plt.colorbar()\n",
        "    tick_marks = np.arange(len(classes))\n",
        "    plt.xticks(tick_marks, classes, rotation=90)\n",
        "    plt.yticks(tick_marks,classes)\n",
        "\n",
        "    fmt = '.2f' if normalize else 'd'\n",
        "    thresh = cm.max() / 2\n",
        "    for i,j in itertools.product(range(cm.shape[0]), range(cm.shape[1])):\n",
        "      plt.text(j, i, format(cm[i, j], fmt),\n",
        "               horizontalalignment = 'center',\n",
        "               color='white' if cm[i,j] > thresh else 'black')\n",
        "      \n",
        "    plt.tight_layout()\n",
        "    plt.ylabel('true_label')\n",
        "    plt.xlabel('Predicted label')"
      ],
      "execution_count": 12,
      "outputs": []
    },
    {
      "cell_type": "markdown",
      "metadata": {
        "id": "2rfhxbw1XYFq",
        "colab_type": "text"
      },
      "source": [
        "### Generic function to run any model specified"
      ]
    },
    {
      "cell_type": "code",
      "metadata": {
        "id": "j6pcFjP2v8Wj",
        "colab_type": "code",
        "colab": {}
      },
      "source": [
        "from datetime import datetime\n",
        "def perform_model(model, X_train, y_train, X_test, y_test, class_labels, cm_normalize=True,\n",
        "                  print_cm=True, cm_cmap=plt.cm.Greens):\n",
        "\n",
        "    # to store results at various stage\n",
        "    results = dict()\n",
        "\n",
        "    # time at which model starts training\n",
        "    train_start_time = datetime.now()\n",
        "    print('training the model...')\n",
        "    model.fit(X_train, y_train)\n",
        "    print('Done \\n \\n')\n",
        "    train_end_time = datetime.now()\n",
        "    results['training_time'] = train_end_time - train_start_time\n",
        "    print('training time(HH:MM:SS.ms) - {}\\n\\n'.format(results['training_time']))\n",
        "\n",
        "    # predict test data\n",
        "    print('Predicting test data')\n",
        "    train_start_time = datetime.now()\n",
        "    y_pred = model.predict(X_test)\n",
        "    train_end_time = datetime.now()\n",
        "    print('Done \\n \\n')\n",
        "    results['testing_time'] = train_end_time - train_start_time\n",
        "    print('testing time(HH:MM:SS.ms) - {}\\n\\n'.format(results['testing_time']))\n",
        "    results['predicted'] = y_pred\n",
        "\n",
        "    # calculate overall accuracy of the model\n",
        "    accuracy = metrics.accuracy_score(y_true=y_test, y_pred=y_pred)\n",
        "    # store accuracy in results\n",
        "    results['accuracy'] = accuracy\n",
        "    print('---------------------------')\n",
        "    print('|         Accuracy         |')\n",
        "    print('---------------------------')\n",
        "    print(' {} \\n'.format(accuracy))\n",
        "\n",
        "    # confusion matrix\n",
        "    cm = metrics.confusion_matrix(y_test, y_pred)\n",
        "    results['confusion_matrix'] = cm\n",
        "    if print_cm:\n",
        "      print('---------------------------')\n",
        "      print('|    Confusion Matrix     |')\n",
        "      print('---------------------------')\n",
        "      print(' {} \\n'.format(cm))\n",
        "\n",
        "      # plot confusion matrix\n",
        "      plt.figure(figsize=(8,8))\n",
        "      plt.grid(b=False)\n",
        "      plot_confusion_matrix(cm, classes=class_labels, normalize=True, title='Normalized Confusion Matrix', cmap=cm_cmap)\n",
        "      plt.show()\n",
        "\n",
        "      # get classificaton report\n",
        "      print('---------------------------')\n",
        "      print('|  Classification Report  |')\n",
        "      print('---------------------------')\n",
        "      classification_report = metrics.classification_report(y_test, y_pred)\n",
        "      # store report in results\n",
        "      results['classification_report'] = classification_report\n",
        "      print(classification_report)\n",
        "\n",
        "      # add the trained model to the results\n",
        "      results['model'] = model\n",
        "\n",
        "      return results\n",
        "      \n"
      ],
      "execution_count": 34,
      "outputs": []
    },
    {
      "cell_type": "markdown",
      "metadata": {
        "id": "mgjEAltG5Ob0",
        "colab_type": "text"
      },
      "source": [
        "### Method to print the gridsearch Attributes"
      ]
    },
    {
      "cell_type": "code",
      "metadata": {
        "id": "KFxuYEOh5l0c",
        "colab_type": "code",
        "colab": {}
      },
      "source": [
        "def print_grid_search_attributes(model):\n",
        "    # Estimator that gave highest score among all the estimators formed in GridSearch\n",
        "    print('--------------------------')\n",
        "    print('|      Best Estimator     |')\n",
        "    print('--------------------------')\n",
        "    print('\\n\\t{}\\n'.format(model.best_estimator_))\n",
        "\n",
        "\n",
        "    # parameters that gave best results while performing grid search\n",
        "    print('--------------------------')\n",
        "    print('|     Best parameters     |')\n",
        "    print('--------------------------')\n",
        "    print('\\tParameters of best estimator : \\n\\n\\t{}\\n'.format(model.best_params_))\n",
        "\n",
        "\n",
        "    #  number of cross validation splits\n",
        "    print('---------------------------------')\n",
        "    print('|   No of CrossValidation sets   |')\n",
        "    print('--------------------------------')\n",
        "    print('\\n\\tTotal numbre of cross validation sets: {}\\n'.format(model.n_splits_))\n",
        "\n",
        "\n",
        "    # Average cross validated score of the best estimator, from the Grid Search \n",
        "    print('--------------------------')\n",
        "    print('|        Best Score       |')\n",
        "    print('--------------------------')\n",
        "    print('\\n\\tAverage Cross Validate scores of best estimator : \\n\\n\\t{}\\n'.format(model.best_score_))\n"
      ],
      "execution_count": 35,
      "outputs": []
    },
    {
      "cell_type": "markdown",
      "metadata": {
        "id": "UKHzRtN-5yEV",
        "colab_type": "text"
      },
      "source": [
        "\n",
        "# 1. Logistic Regression with Grid Search"
      ]
    },
    {
      "cell_type": "code",
      "metadata": {
        "id": "FDhYNu9m57Pq",
        "colab_type": "code",
        "colab": {}
      },
      "source": [
        "from sklearn import linear_model\n",
        "from sklearn import metrics\n",
        "\n",
        "from sklearn.model_selection import GridSearchCV"
      ],
      "execution_count": 36,
      "outputs": []
    },
    {
      "cell_type": "code",
      "metadata": {
        "id": "pS6myJ_J5-uu",
        "colab_type": "code",
        "colab": {
          "base_uri": "https://localhost:8080/",
          "height": 1000
        },
        "outputId": "e1dcae25-1641-4153-b682-8a588086b1f9"
      },
      "source": [
        "# start grid search\n",
        "parameters = {'C':[0.01, 0.1, 1, 10, 20, 30], 'penalty':['l2','l1']}\n",
        "log_reg = linear_model.LogisticRegression()\n",
        "log_reg_grid = GridSearchCV(log_reg, param_grid=parameters, cv=3, verbose=1, n_jobs=-1)\n",
        "log_reg_grid_result = perform_model(log_reg_grid, X_train, y_train, X_test, y_test, class_labels=labels)\n"
      ],
      "execution_count": 37,
      "outputs": [
        {
          "output_type": "stream",
          "text": [
            "training the model...\n",
            "Fitting 3 folds for each of 12 candidates, totalling 36 fits\n"
          ],
          "name": "stdout"
        },
        {
          "output_type": "stream",
          "text": [
            "[Parallel(n_jobs=-1)]: Using backend LokyBackend with 2 concurrent workers.\n",
            "[Parallel(n_jobs=-1)]: Done  36 out of  36 | elapsed:   25.9s finished\n",
            "/usr/local/lib/python3.6/dist-packages/sklearn/linear_model/_logistic.py:940: ConvergenceWarning: lbfgs failed to converge (status=1):\n",
            "STOP: TOTAL NO. of ITERATIONS REACHED LIMIT.\n",
            "\n",
            "Increase the number of iterations (max_iter) or scale the data as shown in:\n",
            "    https://scikit-learn.org/stable/modules/preprocessing.html\n",
            "Please also refer to the documentation for alternative solver options:\n",
            "    https://scikit-learn.org/stable/modules/linear_model.html#logistic-regression\n",
            "  extra_warning_msg=_LOGISTIC_SOLVER_CONVERGENCE_MSG)\n"
          ],
          "name": "stderr"
        },
        {
          "output_type": "stream",
          "text": [
            "Done \n",
            " \n",
            "\n",
            "training time(HH:MM:SS.ms) - 0:00:29.085964\n",
            "\n",
            "\n",
            "Predicting test data\n",
            "Done \n",
            " \n",
            "\n",
            "testing time(HH:MM:SS.ms) - 0:00:00.009278\n",
            "\n",
            "\n",
            "---------------------------\n",
            "|         Accuracy         |\n",
            "---------------------------\n",
            " 0.9586019681031558 \n",
            "\n",
            "---------------------------\n",
            "|    Confusion Matrix     |\n",
            "---------------------------\n",
            " [[537   0   0   0   0   0]\n",
            " [  0 431  57   0   0   3]\n",
            " [  0  15 517   0   0   0]\n",
            " [  0   0   0 493   2   1]\n",
            " [  0   0   0   4 402  14]\n",
            " [  0   0   0  25   1 445]] \n",
            "\n"
          ],
          "name": "stdout"
        },
        {
          "output_type": "display_data",
          "data": {
            "image/png": "[encoded data removed]",
            "text/plain": [
              "<Figure size 576x576 with 2 Axes>"
            ]
          },
          "metadata": {
            "tags": [],
            "needs_background": "light"
          }
        },
        {
          "output_type": "stream",
          "text": [
            "---------------------------\n",
            "|  Classification Report  |\n",
            "---------------------------\n",
            "                    precision    recall  f1-score   support\n",
            "\n",
            "            LAYING       1.00      1.00      1.00       537\n",
            "           SITTING       0.97      0.88      0.92       491\n",
            "          STANDING       0.90      0.97      0.93       532\n",
            "           WALKING       0.94      0.99      0.97       496\n",
            "WALKING_DOWNSTAIRS       0.99      0.96      0.97       420\n",
            "  WALKING_UPSTAIRS       0.96      0.94      0.95       471\n",
            "\n",
            "          accuracy                           0.96      2947\n",
            "         macro avg       0.96      0.96      0.96      2947\n",
            "      weighted avg       0.96      0.96      0.96      2947\n",
            "\n"
          ],
          "name": "stdout"
        }
      ]
    },
    {
      "cell_type": "code",
      "metadata": {
        "id": "Uu4blQ2P6-RW",
        "colab_type": "code",
        "colab": {
          "base_uri": "https://localhost:8080/",
          "height": 576
        },
        "outputId": "cedbd812-524e-4bd0-f799-726b897a8b08"
      },
      "source": [
        "plt.figure(figsize=(8,8))\n",
        "plt.grid(b=False)\n",
        "plot_confusion_matrix(log_reg_grid_result['confusion_matrix'], classes=labels, cmap=plt.cm.Greens, )\n",
        "plt.show()"
      ],
      "execution_count": 29,
      "outputs": [
        {
          "output_type": "display_data",
          "data": {
            "image/png": "[encoded data removed]",
            "text/plain": [
              "<Figure size 576x576 with 2 Axes>"
            ]
          },
          "metadata": {
            "tags": [],
            "needs_background": "light"
          }
        }
      ]
    },
    {
      "cell_type": "code",
      "metadata": {
        "id": "2GZ33jHnlREy",
        "colab_type": "code",
        "colab": {
          "base_uri": "https://localhost:8080/",
          "height": 538
        },
        "outputId": "7c1a4391-ac67-413d-8b42-c51c5e95acb1"
      },
      "source": [
        "# observe the attributes of the model \n",
        "print_grid_search_attributes(log_reg_grid_result['model'])"
      ],
      "execution_count": 38,
      "outputs": [
        {
          "output_type": "stream",
          "text": [
            "--------------------------\n",
            "|      Best Estimator     |\n",
            "--------------------------\n",
            "\n",
            "\tLogisticRegression(C=1, class_weight=None, dual=False, fit_intercept=True,\n",
            "                   intercept_scaling=1, l1_ratio=None, max_iter=100,\n",
            "                   multi_class='auto', n_jobs=None, penalty='l2',\n",
            "                   random_state=None, solver='lbfgs', tol=0.0001, verbose=0,\n",
            "                   warm_start=False)\n",
            "\n",
            "--------------------------\n",
            "|     Best parameters     |\n",
            "--------------------------\n",
            "\tParameters of best estimator : \n",
            "\n",
            "\t{'C': 1, 'penalty': 'l2'}\n",
            "\n",
            "---------------------------------\n",
            "|   No of CrossValidation sets   |\n",
            "--------------------------------\n",
            "\n",
            "\tTotal numbre of cross validation sets: 3\n",
            "\n",
            "--------------------------\n",
            "|        Best Score       |\n",
            "--------------------------\n",
            "\n",
            "\tAverage Cross Validate scores of best estimator : \n",
            "\n",
            "\t0.9358015748118914\n",
            "\n"
          ],
          "name": "stdout"
        }
      ]
    },
    {
      "cell_type": "markdown",
      "metadata": {
        "id": "pygVMokg68GZ",
        "colab_type": "text"
      },
      "source": [
        "#  2. Linear SVC with GridSearch"
      ]
    },
    {
      "cell_type": "code",
      "metadata": {
        "id": "HV8Ug73mF5tv",
        "colab_type": "code",
        "colab": {}
      },
      "source": [
        "from sklearn.svm import LinearSVC"
      ],
      "execution_count": 39,
      "outputs": []
    },
    {
      "cell_type": "code",
      "metadata": {
        "id": "jGEVY8drF6h2",
        "colab_type": "code",
        "colab": {
          "base_uri": "https://localhost:8080/",
          "height": 1000
        },
        "outputId": "cc2b1f86-73de-4442-c4c6-30893268aaa0"
      },
      "source": [
        "parameters = {'C':[0.125, 0.5, 1, 2, 8, 16]}\n",
        "lr_svc = LinearSVC(tol=0.00005)\n",
        "lr_svc_grid = GridSearchCV(lr_svc, param_grid=parameters, n_jobs=-1, verbose=1)\n",
        "lr_svc_grid_result = perform_model(lr_svc_grid, X_train, y_train, X_test, y_test, class_labels=labels)"
      ],
      "execution_count": 40,
      "outputs": [
        {
          "output_type": "stream",
          "text": [
            "training the model...\n",
            "Fitting 5 folds for each of 6 candidates, totalling 30 fits\n"
          ],
          "name": "stdout"
        },
        {
          "output_type": "stream",
          "text": [
            "[Parallel(n_jobs=-1)]: Using backend LokyBackend with 2 concurrent workers.\n",
            "/usr/local/lib/python3.6/dist-packages/sklearn/svm/_base.py:947: ConvergenceWarning: Liblinear failed to converge, increase the number of iterations.\n",
            "  \"the number of iterations.\", ConvergenceWarning)\n"
          ],
          "name": "stderr"
        },
        {
          "output_type": "stream",
          "text": [
            "Done \n",
            " \n",
            "\n",
            "training time(HH:MM:SS.ms) - 0:01:37.764343\n",
            "\n",
            "\n",
            "Predicting test data\n",
            "Done \n",
            " \n",
            "\n",
            "testing time(HH:MM:SS.ms) - 0:00:00.008770\n",
            "\n",
            "\n",
            "---------------------------\n",
            "|         Accuracy         |\n",
            "---------------------------\n",
            " 0.9653885307091958 \n",
            "\n",
            "---------------------------\n",
            "|    Confusion Matrix     |\n",
            "---------------------------\n",
            " [[537   0   0   0   0   0]\n",
            " [  2 424  61   0   0   4]\n",
            " [  0  10 521   1   0   0]\n",
            " [  0   0   0 496   0   0]\n",
            " [  0   0   0   2 413   5]\n",
            " [  0   0   0  17   0 454]] \n",
            "\n"
          ],
          "name": "stdout"
        },
        {
          "output_type": "display_data",
          "data": {
            "image/png": "[encoded data removed]",
            "text/plain": [
              "<Figure size 576x576 with 2 Axes>"
            ]
          },
          "metadata": {
            "tags": [],
            "needs_background": "light"
          }
        },
        {
          "output_type": "stream",
          "text": [
            "---------------------------\n",
            "|  Classification Report  |\n",
            "---------------------------\n",
            "                    precision    recall  f1-score   support\n",
            "\n",
            "            LAYING       1.00      1.00      1.00       537\n",
            "           SITTING       0.98      0.86      0.92       491\n",
            "          STANDING       0.90      0.98      0.94       532\n",
            "           WALKING       0.96      1.00      0.98       496\n",
            "WALKING_DOWNSTAIRS       1.00      0.98      0.99       420\n",
            "  WALKING_UPSTAIRS       0.98      0.96      0.97       471\n",
            "\n",
            "          accuracy                           0.97      2947\n",
            "         macro avg       0.97      0.97      0.97      2947\n",
            "      weighted avg       0.97      0.97      0.97      2947\n",
            "\n"
          ],
          "name": "stdout"
        }
      ]
    },
    {
      "cell_type": "code",
      "metadata": {
        "id": "1OGbf_4wF_rv",
        "colab_type": "code",
        "colab": {
          "base_uri": "https://localhost:8080/",
          "height": 521
        },
        "outputId": "8a29e30d-66d9-4729-e821-66277baa7ad5"
      },
      "source": [
        "print_grid_search_attributes(lr_svc_grid_result['model'])"
      ],
      "execution_count": 41,
      "outputs": [
        {
          "output_type": "stream",
          "text": [
            "--------------------------\n",
            "|      Best Estimator     |\n",
            "--------------------------\n",
            "\n",
            "\tLinearSVC(C=1, class_weight=None, dual=True, fit_intercept=True,\n",
            "          intercept_scaling=1, loss='squared_hinge', max_iter=1000,\n",
            "          multi_class='ovr', penalty='l2', random_state=None, tol=5e-05,\n",
            "          verbose=0)\n",
            "\n",
            "--------------------------\n",
            "|     Best parameters     |\n",
            "--------------------------\n",
            "\tParameters of best estimator : \n",
            "\n",
            "\t{'C': 1}\n",
            "\n",
            "---------------------------------\n",
            "|   No of CrossValidation sets   |\n",
            "--------------------------------\n",
            "\n",
            "\tTotal numbre of cross validation sets: 5\n",
            "\n",
            "--------------------------\n",
            "|        Best Score       |\n",
            "--------------------------\n",
            "\n",
            "\tAverage Cross Validate scores of best estimator : \n",
            "\n",
            "\t0.9417918302603162\n",
            "\n"
          ],
          "name": "stdout"
        }
      ]
    },
    {
      "cell_type": "markdown",
      "metadata": {
        "id": "9pRCHibDJeVJ",
        "colab_type": "text"
      },
      "source": [
        "# 3.  Kernel SVM with GridSearch"
      ]
    },
    {
      "cell_type": "code",
      "metadata": {
        "id": "G-DHslHuJlc5",
        "colab_type": "code",
        "colab": {
          "base_uri": "https://localhost:8080/",
          "height": 1000
        },
        "outputId": "1e3f57cd-6bd2-42b2-ec26-b8d1afd81ab7"
      },
      "source": [
        "from sklearn.svm import SVC\n",
        "parameters = {'C':[2,8,16],\\\n",
        "              'gamma': [ 0.0078125, 0.125, 2]}\n",
        "rbf_svm = SVC(kernel='rbf')\n",
        "rbf_svm_grid = GridSearchCV(rbf_svm,param_grid=parameters, n_jobs=-1)\n",
        "rbf_svm_grid_results = perform_model(rbf_svm_grid, X_train, y_train, X_test, y_test, class_labels=labels)"
      ],
      "execution_count": 42,
      "outputs": [
        {
          "output_type": "stream",
          "text": [
            "training the model...\n",
            "Done \n",
            " \n",
            "\n",
            "training time(HH:MM:SS.ms) - 0:14:20.489063\n",
            "\n",
            "\n",
            "Predicting test data\n",
            "Done \n",
            " \n",
            "\n",
            "testing time(HH:MM:SS.ms) - 0:00:03.081915\n",
            "\n",
            "\n",
            "---------------------------\n",
            "|         Accuracy         |\n",
            "---------------------------\n",
            " 0.9626739056667798 \n",
            "\n",
            "---------------------------\n",
            "|    Confusion Matrix     |\n",
            "---------------------------\n",
            " [[537   0   0   0   0   0]\n",
            " [  0 441  48   0   0   2]\n",
            " [  0  12 520   0   0   0]\n",
            " [  0   0   0 489   2   5]\n",
            " [  0   0   0   4 397  19]\n",
            " [  0   0   0  17   1 453]] \n",
            "\n"
          ],
          "name": "stdout"
        },
        {
          "output_type": "display_data",
          "data": {
            "image/png": "[encoded data removed]",
            "text/plain": [
              "<Figure size 576x576 with 2 Axes>"
            ]
          },
          "metadata": {
            "tags": [],
            "needs_background": "light"
          }
        },
        {
          "output_type": "stream",
          "text": [
            "---------------------------\n",
            "|  Classification Report  |\n",
            "---------------------------\n",
            "                    precision    recall  f1-score   support\n",
            "\n",
            "            LAYING       1.00      1.00      1.00       537\n",
            "           SITTING       0.97      0.90      0.93       491\n",
            "          STANDING       0.92      0.98      0.95       532\n",
            "           WALKING       0.96      0.99      0.97       496\n",
            "WALKING_DOWNSTAIRS       0.99      0.95      0.97       420\n",
            "  WALKING_UPSTAIRS       0.95      0.96      0.95       471\n",
            "\n",
            "          accuracy                           0.96      2947\n",
            "         macro avg       0.96      0.96      0.96      2947\n",
            "      weighted avg       0.96      0.96      0.96      2947\n",
            "\n"
          ],
          "name": "stdout"
        }
      ]
    },
    {
      "cell_type": "code",
      "metadata": {
        "id": "hqLGV38dJuIL",
        "colab_type": "code",
        "colab": {
          "base_uri": "https://localhost:8080/",
          "height": 521
        },
        "outputId": "1bb93c0b-b7ce-480a-b263-d59ea23b2c17"
      },
      "source": [
        "print_grid_search_attributes(rbf_svm_grid_results['model'])"
      ],
      "execution_count": 43,
      "outputs": [
        {
          "output_type": "stream",
          "text": [
            "--------------------------\n",
            "|      Best Estimator     |\n",
            "--------------------------\n",
            "\n",
            "\tSVC(C=16, break_ties=False, cache_size=200, class_weight=None, coef0=0.0,\n",
            "    decision_function_shape='ovr', degree=3, gamma=0.0078125, kernel='rbf',\n",
            "    max_iter=-1, probability=False, random_state=None, shrinking=True,\n",
            "    tol=0.001, verbose=False)\n",
            "\n",
            "--------------------------\n",
            "|     Best parameters     |\n",
            "--------------------------\n",
            "\tParameters of best estimator : \n",
            "\n",
            "\t{'C': 16, 'gamma': 0.0078125}\n",
            "\n",
            "---------------------------------\n",
            "|   No of CrossValidation sets   |\n",
            "--------------------------------\n",
            "\n",
            "\tTotal numbre of cross validation sets: 5\n",
            "\n",
            "--------------------------\n",
            "|        Best Score       |\n",
            "--------------------------\n",
            "\n",
            "\tAverage Cross Validate scores of best estimator : \n",
            "\n",
            "\t0.9447834551903698\n",
            "\n"
          ],
          "name": "stdout"
        }
      ]
    },
    {
      "cell_type": "markdown",
      "metadata": {
        "id": "zaPpiidxNQ1Y",
        "colab_type": "text"
      },
      "source": [
        "# 4. Decision Trees with GridSearchCV"
      ]
    },
    {
      "cell_type": "code",
      "metadata": {
        "id": "u8KXr_feNso-",
        "colab_type": "code",
        "colab": {
          "base_uri": "https://localhost:8080/",
          "height": 1000
        },
        "outputId": "33280e5f-c23c-4861-dd57-dfd82515d979"
      },
      "source": [
        "from sklearn.tree import DecisionTreeClassifier\n",
        "parameters = {'max_depth':np.arange(3,10,2)}\n",
        "dt = DecisionTreeClassifier()\n",
        "dt_grid = GridSearchCV(dt,param_grid=parameters, n_jobs=-1)\n",
        "dt_grid_results = perform_model(dt_grid, X_train, y_train, X_test, y_test, class_labels=labels)\n",
        "print_grid_search_attributes(dt_grid_results['model'])"
      ],
      "execution_count": 44,
      "outputs": [
        {
          "output_type": "stream",
          "text": [
            "training the model...\n",
            "Done \n",
            " \n",
            "\n",
            "training time(HH:MM:SS.ms) - 0:00:34.617722\n",
            "\n",
            "\n",
            "Predicting test data\n",
            "Done \n",
            " \n",
            "\n",
            "testing time(HH:MM:SS.ms) - 0:00:00.006639\n",
            "\n",
            "\n",
            "---------------------------\n",
            "|         Accuracy         |\n",
            "---------------------------\n",
            " 0.8754665761791652 \n",
            "\n",
            "---------------------------\n",
            "|    Confusion Matrix     |\n",
            "---------------------------\n",
            " [[537   0   0   0   0   0]\n",
            " [  0 375 116   0   0   0]\n",
            " [  0  59 473   0   0   0]\n",
            " [  0   0   0 472  18   6]\n",
            " [  0   0   0  28 344  48]\n",
            " [  0   0   0  63  29 379]] \n",
            "\n"
          ],
          "name": "stdout"
        },
        {
          "output_type": "display_data",
          "data": {
            "image/png": "[encoded data removed]",
            "text/plain": [
              "<Figure size 576x576 with 2 Axes>"
            ]
          },
          "metadata": {
            "tags": [],
            "needs_background": "light"
          }
        },
        {
          "output_type": "stream",
          "text": [
            "---------------------------\n",
            "|  Classification Report  |\n",
            "---------------------------\n",
            "                    precision    recall  f1-score   support\n",
            "\n",
            "            LAYING       1.00      1.00      1.00       537\n",
            "           SITTING       0.86      0.76      0.81       491\n",
            "          STANDING       0.80      0.89      0.84       532\n",
            "           WALKING       0.84      0.95      0.89       496\n",
            "WALKING_DOWNSTAIRS       0.88      0.82      0.85       420\n",
            "  WALKING_UPSTAIRS       0.88      0.80      0.84       471\n",
            "\n",
            "          accuracy                           0.88      2947\n",
            "         macro avg       0.88      0.87      0.87      2947\n",
            "      weighted avg       0.88      0.88      0.87      2947\n",
            "\n",
            "--------------------------\n",
            "|      Best Estimator     |\n",
            "--------------------------\n",
            "\n",
            "\tDecisionTreeClassifier(ccp_alpha=0.0, class_weight=None, criterion='gini',\n",
            "                       max_depth=9, max_features=None, max_leaf_nodes=None,\n",
            "                       min_impurity_decrease=0.0, min_impurity_split=None,\n",
            "                       min_samples_leaf=1, min_samples_split=2,\n",
            "                       min_weight_fraction_leaf=0.0, presort='deprecated',\n",
            "                       random_state=None, splitter='best')\n",
            "\n",
            "--------------------------\n",
            "|     Best parameters     |\n",
            "--------------------------\n",
            "\tParameters of best estimator : \n",
            "\n",
            "\t{'max_depth': 9}\n",
            "\n",
            "---------------------------------\n",
            "|   No of CrossValidation sets   |\n",
            "--------------------------------\n",
            "\n",
            "\tTotal numbre of cross validation sets: 5\n",
            "\n",
            "--------------------------\n",
            "|        Best Score       |\n",
            "--------------------------\n",
            "\n",
            "\tAverage Cross Validate scores of best estimator : \n",
            "\n",
            "\t0.854336306922497\n",
            "\n"
          ],
          "name": "stdout"
        }
      ]
    },
    {
      "cell_type": "markdown",
      "metadata": {
        "id": "WBmAgWfwOc25",
        "colab_type": "text"
      },
      "source": [
        "# 5. Random Forest Classifier with GridSearch"
      ]
    },
    {
      "cell_type": "code",
      "metadata": {
        "id": "jnSzZrpwQaR7",
        "colab_type": "code",
        "colab": {
          "base_uri": "https://localhost:8080/",
          "height": 1000
        },
        "outputId": "e2d51fb6-2827-42be-c59d-a11ace47ca2a"
      },
      "source": [
        "from sklearn.ensemble import RandomForestClassifier\n",
        "params = {'n_estimators': np.arange(10,201,20), 'max_depth':np.arange(3,15,2)}\n",
        "rfc = RandomForestClassifier()\n",
        "rfc_grid = GridSearchCV(rfc, param_grid=params, n_jobs=-1)\n",
        "rfc_grid_results = perform_model(rfc_grid, X_train, y_train, X_test, y_test, class_labels=labels)\n",
        "print_grid_search_attributes(rfc_grid_results['model'])"
      ],
      "execution_count": 45,
      "outputs": [
        {
          "output_type": "stream",
          "text": [
            "training the model...\n",
            "Done \n",
            " \n",
            "\n",
            "training time(HH:MM:SS.ms) - 0:24:29.780798\n",
            "\n",
            "\n",
            "Predicting test data\n",
            "Done \n",
            " \n",
            "\n",
            "testing time(HH:MM:SS.ms) - 0:00:00.057242\n",
            "\n",
            "\n",
            "---------------------------\n",
            "|         Accuracy         |\n",
            "---------------------------\n",
            " 0.9246691550729556 \n",
            "\n",
            "---------------------------\n",
            "|    Confusion Matrix     |\n",
            "---------------------------\n",
            " [[537   0   0   0   0   0]\n",
            " [  0 425  66   0   0   0]\n",
            " [  0  35 497   0   0   0]\n",
            " [  0   0   0 483  12   1]\n",
            " [  0   0   0  25 348  47]\n",
            " [  0   0   0  30   6 435]] \n",
            "\n"
          ],
          "name": "stdout"
        },
        {
          "output_type": "display_data",
          "data": {
            "image/png": "[encoded data removed]",
            "text/plain": [
              "<Figure size 576x576 with 2 Axes>"
            ]
          },
          "metadata": {
            "tags": [],
            "needs_background": "light"
          }
        },
        {
          "output_type": "stream",
          "text": [
            "---------------------------\n",
            "|  Classification Report  |\n",
            "---------------------------\n",
            "                    precision    recall  f1-score   support\n",
            "\n",
            "            LAYING       1.00      1.00      1.00       537\n",
            "           SITTING       0.92      0.87      0.89       491\n",
            "          STANDING       0.88      0.93      0.91       532\n",
            "           WALKING       0.90      0.97      0.93       496\n",
            "WALKING_DOWNSTAIRS       0.95      0.83      0.89       420\n",
            "  WALKING_UPSTAIRS       0.90      0.92      0.91       471\n",
            "\n",
            "          accuracy                           0.92      2947\n",
            "         macro avg       0.93      0.92      0.92      2947\n",
            "      weighted avg       0.93      0.92      0.92      2947\n",
            "\n",
            "--------------------------\n",
            "|      Best Estimator     |\n",
            "--------------------------\n",
            "\n",
            "\tRandomForestClassifier(bootstrap=True, ccp_alpha=0.0, class_weight=None,\n",
            "                       criterion='gini', max_depth=9, max_features='auto',\n",
            "                       max_leaf_nodes=None, max_samples=None,\n",
            "                       min_impurity_decrease=0.0, min_impurity_split=None,\n",
            "                       min_samples_leaf=1, min_samples_split=2,\n",
            "                       min_weight_fraction_leaf=0.0, n_estimators=110,\n",
            "                       n_jobs=None, oob_score=False, random_state=None,\n",
            "                       verbose=0, warm_start=False)\n",
            "\n",
            "--------------------------\n",
            "|     Best parameters     |\n",
            "--------------------------\n",
            "\tParameters of best estimator : \n",
            "\n",
            "\t{'max_depth': 9, 'n_estimators': 110}\n",
            "\n",
            "---------------------------------\n",
            "|   No of CrossValidation sets   |\n",
            "--------------------------------\n",
            "\n",
            "\tTotal numbre of cross validation sets: 5\n",
            "\n",
            "--------------------------\n",
            "|        Best Score       |\n",
            "--------------------------\n",
            "\n",
            "\tAverage Cross Validate scores of best estimator : \n",
            "\n",
            "\t0.9207064470927732\n",
            "\n"
          ],
          "name": "stdout"
        }
      ]
    },
    {
      "cell_type": "markdown",
      "metadata": {
        "id": "3BTecNJ_VZgN",
        "colab_type": "text"
      },
      "source": [
        "\n",
        "# 6. Comparing all models"
      ]
    },
    {
      "cell_type": "code",
      "metadata": {
        "id": "guZX3DT6WiIP",
        "colab_type": "code",
        "colab": {
          "base_uri": "https://localhost:8080/",
          "height": 151
        },
        "outputId": "db421ba9-6348-41bb-e5a2-f64180374a71"
      },
      "source": [
        "print('\\n                     Accuracy     Error')\n",
        "print('                     ----------   --------')\n",
        "print('Logistic Regression : {:.04}%       {:.04}%'.format(log_reg_grid_result['accuracy'] * 100,\\\n",
        "                                                  100-(log_reg_grid_result['accuracy'] * 100)))\n",
        "\n",
        "print('Linear SVC          : {:.04}%       {:.04}% '.format(lr_svc_grid_result['accuracy'] * 100,\\\n",
        "                                                        100-(lr_svc_grid_result['accuracy'] * 100)))\n",
        "\n",
        "print('rbf SVM classifier  : {:.04}%      {:.04}% '.format(rbf_svm_grid_results['accuracy'] * 100,\\\n",
        "                                                          100-(rbf_svm_grid_results['accuracy'] * 100)))\n",
        "\n",
        "print('DecisionTree        : {:.04}%      {:.04}% '.format(dt_grid_results['accuracy'] * 100,\\\n",
        "                                                        100-(dt_grid_results['accuracy'] * 100)))\n",
        "\n",
        "print('Random Forest       : {:.04}%      {:.04}% '.format(rfc_grid_results['accuracy'] * 100,\\\n",
        "                                                           100-(rfc_grid_results['accuracy'] * 100)))\n",
        "# print('GradientBoosting DT : {:.04}%      {:.04}% '.format(rfc_grid_results['accuracy'] * 100,\\\n",
        "                                                        # 100-(rfc_grid_results['accuracy'] * 100)))"
      ],
      "execution_count": 48,
      "outputs": [
        {
          "output_type": "stream",
          "text": [
            "\n",
            "                     Accuracy     Error\n",
            "                     ----------   --------\n",
            "Logistic Regression : 95.86%       4.14%\n",
            "Linear SVC          : 96.54%       3.461% \n",
            "rbf SVM classifier  : 96.27%      3.733% \n",
            "DecisionTree        : 87.55%      12.45% \n",
            "Random Forest       : 92.47%      7.533% \n"
          ],
          "name": "stdout"
        }
      ]
    },
    {
      "cell_type": "markdown",
      "metadata": {
        "id": "ocewROPDSgCi",
        "colab_type": "text"
      },
      "source": [
        "# Conclusion :"
      ]
    },
    {
      "cell_type": "markdown",
      "metadata": {
        "id": "k1kf6nK5VlZ4",
        "colab_type": "text"
      },
      "source": [
        "In the real world, domain-knowledge, EDA and feature-engineering matter most."
      ]
    }
  ]
}